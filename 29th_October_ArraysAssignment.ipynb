{
  "nbformat": 4,
  "nbformat_minor": 0,
  "metadata": {
    "colab": {
      "provenance": []
    },
    "kernelspec": {
      "name": "python3",
      "display_name": "Python 3"
    },
    "language_info": {
      "name": "python"
    }
  },
  "cells": [
    {
      "cell_type": "markdown",
      "source": [
        "1. Given an array, check if it contains any duplicates or not."
      ],
      "metadata": {
        "id": "1WD5RA1QEQFw"
      }
    },
    {
      "cell_type": "code",
      "execution_count": 40,
      "metadata": {
        "id": "F0QkR2byEDJS"
      },
      "outputs": [],
      "source": [
        "def find_duplicate_Array(arr):\n",
        "  if len(arr)>1:\n",
        "    for i in arr:\n",
        "      if arr.count(i)>1:\n",
        "        return True\n",
        "  return False"
      ]
    },
    {
      "cell_type": "code",
      "source": [
        "arr=[1,2,3,4]\n",
        "arr2=[1,1,2,3,4]\n",
        "print (find_duplicate_Array(arr))\n",
        "print (find_duplicate_Array(arr2))"
      ],
      "metadata": {
        "colab": {
          "base_uri": "https://localhost:8080/"
        },
        "id": "tnd4Mof3EioS",
        "outputId": "c4a948e9-b77e-4405-d6f9-8edbeefec06f"
      },
      "execution_count": 41,
      "outputs": [
        {
          "output_type": "stream",
          "name": "stdout",
          "text": [
            "False\n",
            "True\n"
          ]
        }
      ]
    },
    {
      "cell_type": "markdown",
      "source": [
        "2. Given an array and an integer k, rotate the array to the right by k steps."
      ],
      "metadata": {
        "id": "6aV7_g5kFitu"
      }
    },
    {
      "cell_type": "code",
      "source": [
        "def rotate_array(arr,k):\n",
        "  if (len(arr)>1) and k>0:\n",
        "    arr[:]=arr[len(arr)-k:]+arr[0:len(arr)-k]\n",
        "    return arr\n",
        "  elif k==0 and len(arr)>1:\n",
        "    return arr\n",
        "  else:\n",
        "    return \"Array shaould have some value\"\n"
      ],
      "metadata": {
        "id": "BDzKDmv_Elbd"
      },
      "execution_count": 38,
      "outputs": []
    },
    {
      "cell_type": "code",
      "source": [
        "arr=[1, 2, 3, 4, 5, 6, 7]\n",
        "arr2=[9,8,7,6,5,4,3,2,1]\n",
        "arr3=[]\n",
        "print(rotate_array(arr,3))\n",
        "print(rotate_array(arr2,5))\n",
        "print(rotate_array(arr2,0))\n",
        "print(rotate_array(arr3,5))"
      ],
      "metadata": {
        "colab": {
          "base_uri": "https://localhost:8080/"
        },
        "id": "K2xAJuvuG858",
        "outputId": "96e6bc3f-b668-4f56-83d4-7a6e37bf4f97"
      },
      "execution_count": 39,
      "outputs": [
        {
          "output_type": "stream",
          "name": "stdout",
          "text": [
            "[5, 6, 7, 1, 2, 3, 4]\n",
            "[5, 4, 3, 2, 1, 9, 8, 7, 6]\n",
            "[5, 4, 3, 2, 1, 9, 8, 7, 6]\n",
            "Array shaould have some value\n"
          ]
        }
      ]
    },
    {
      "cell_type": "markdown",
      "source": [
        "3. Reverse the given array in-place, means without using any extra data structure."
      ],
      "metadata": {
        "id": "SDRHQd8tIx_0"
      }
    },
    {
      "cell_type": "code",
      "source": [
        "def reverse_array(arr):\n",
        "  if len(arr)>1:\n",
        "    return arr[::-1]\n",
        "  return \"Enter some element in the array\""
      ],
      "metadata": {
        "id": "_t8ALBtNG-jQ"
      },
      "execution_count": 28,
      "outputs": []
    },
    {
      "cell_type": "code",
      "source": [
        "arr=[1, 2, 3, 4, 5, 6, 7]\n",
        "arr2=[9,8,7,6,5,4,3,2,1]\n",
        "arr3=[]\n",
        "print(reverse_array(arr))\n",
        "print(reverse_array(arr2))\n",
        "print(reverse_array(arr3))"
      ],
      "metadata": {
        "colab": {
          "base_uri": "https://localhost:8080/"
        },
        "id": "-vfm9HYjI_PM",
        "outputId": "4561ef33-6a43-4975-e70f-1b10ef409aa9"
      },
      "execution_count": 29,
      "outputs": [
        {
          "output_type": "stream",
          "name": "stdout",
          "text": [
            "[7, 6, 5, 4, 3, 2, 1]\n",
            "[1, 2, 3, 4, 5, 6, 7, 8, 9]\n",
            "Enter some element in the array\n"
          ]
        }
      ]
    },
    {
      "cell_type": "markdown",
      "source": [
        "4. Given an array of integers, find the maximum element in an array"
      ],
      "metadata": {
        "id": "ToYJ6O0rJM7L"
      }
    },
    {
      "cell_type": "code",
      "source": [
        "def find_max_element(arr):\n",
        "  if len(arr)>0:\n",
        "    max = arr[0]\n",
        "    for i in arr:\n",
        "      if i>max:\n",
        "        max=i\n",
        "    return max\n",
        "  return \"array size should be greater than 1\""
      ],
      "metadata": {
        "id": "dUnaZI90JD0m"
      },
      "execution_count": 42,
      "outputs": []
    },
    {
      "cell_type": "code",
      "source": [
        "arr=[1, 2, 3, 4, 5, 6, 7]\n",
        "arr2=[9,9,2,1,10,6,10]\n",
        "print(find_max_element(arr))\n",
        "print(find_max_element(arr2))"
      ],
      "metadata": {
        "colab": {
          "base_uri": "https://localhost:8080/"
        },
        "id": "qiB_zS7BLdzQ",
        "outputId": "1d738941-69f0-4445-f138-526bd12055ac"
      },
      "execution_count": 44,
      "outputs": [
        {
          "output_type": "stream",
          "name": "stdout",
          "text": [
            "7\n",
            "10\n"
          ]
        }
      ]
    },
    {
      "cell_type": "markdown",
      "source": [
        "5. Given a sorted array, remove the duplicate element without using any extra data structure."
      ],
      "metadata": {
        "id": "qaHX3nJBUxVS"
      }
    },
    {
      "cell_type": "code",
      "source": [
        "def remove_duplicate(arr):\n",
        "   if len(arr)>1:\n",
        "    for i in arr:\n",
        "      while(True):\n",
        "        if arr.count(i)>1:\n",
        "          arr.remove(i)\n",
        "        elif arr.count(i)==1:\n",
        "          break\n",
        "    return arr\n",
        "   return \"Enter some element in the Array\""
      ],
      "metadata": {
        "id": "ecDNvITKLlSI"
      },
      "execution_count": 140,
      "outputs": []
    },
    {
      "cell_type": "code",
      "source": [
        "arr4 = [1,1,2,2,2,2,3,3,4,4,4,5,5]\n",
        "aar=[]\n",
        "arr=[1,2,3,1,2,3,1,2,3,4,5,6,3,4,5,6,8]\n",
        "print(remove_duplicate(arr4))\n",
        "print(remove_duplicate(aar))\n",
        "print(remove_duplicate(arr))"
      ],
      "metadata": {
        "colab": {
          "base_uri": "https://localhost:8080/"
        },
        "id": "JnV7E92NW34r",
        "outputId": "f7ce4bce-359d-4530-c502-e8e101178e6e"
      },
      "execution_count": 143,
      "outputs": [
        {
          "output_type": "stream",
          "name": "stdout",
          "text": [
            "[1, 2, 3, 4, 5]\n",
            "Enter some element in the Array\n",
            "[1, 2, 5, 3, 4, 5, 6, 8]\n"
          ]
        }
      ]
    }
  ]
}